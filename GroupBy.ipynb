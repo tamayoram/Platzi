{
  "nbformat": 4,
  "nbformat_minor": 0,
  "metadata": {
    "colab": {
      "name": "GroupBy.ipynb",
      "provenance": [],
      "authorship_tag": "ABX9TyPPJk+2FUTCM3R8IqDvSMwB",
      "include_colab_link": true
    },
    "kernelspec": {
      "name": "python3",
      "display_name": "Python 3"
    },
    "language_info": {
      "name": "python"
    }
  },
  "cells": [
    {
      "cell_type": "markdown",
      "metadata": {
        "id": "view-in-github",
        "colab_type": "text"
      },
      "source": [
        "<a href=\"https://colab.research.google.com/github/tamayoram/Platzi/blob/main/GroupBy.ipynb\" target=\"_parent\"><img src=\"https://colab.research.google.com/assets/colab-badge.svg\" alt=\"Open In Colab\"/></a>"
      ]
    },
    {
      "cell_type": "code",
      "metadata": {
        "id": "ZwgRVJ_EnsPj"
      },
      "source": [
        "import pandas as pd\n",
        "import numpy as np\n",
        "import seaborn as sns\n"
      ],
      "execution_count": 2,
      "outputs": []
    },
    {
      "cell_type": "code",
      "metadata": {
        "id": "wHtHzTa4ouwW"
      },
      "source": [
        "pd.options.display.float_format='{:,.2f}'.format"
      ],
      "execution_count": 9,
      "outputs": []
    },
    {
      "cell_type": "code",
      "metadata": {
        "id": "RgbOOnPnoPY3"
      },
      "source": [
        "df=sns.load_dataset('diamonds')"
      ],
      "execution_count": 3,
      "outputs": []
    },
    {
      "cell_type": "code",
      "metadata": {
        "colab": {
          "base_uri": "https://localhost:8080/",
          "height": 204
        },
        "id": "hri8dr6loULX",
        "outputId": "7ed9e149-168f-4c89-cc62-859ce867204b"
      },
      "source": [
        "df.head()"
      ],
      "execution_count": null,
      "outputs": [
        {
          "output_type": "execute_result",
          "data": {
            "text/html": [
              "<div>\n",
              "<style scoped>\n",
              "    .dataframe tbody tr th:only-of-type {\n",
              "        vertical-align: middle;\n",
              "    }\n",
              "\n",
              "    .dataframe tbody tr th {\n",
              "        vertical-align: top;\n",
              "    }\n",
              "\n",
              "    .dataframe thead th {\n",
              "        text-align: right;\n",
              "    }\n",
              "</style>\n",
              "<table border=\"1\" class=\"dataframe\">\n",
              "  <thead>\n",
              "    <tr style=\"text-align: right;\">\n",
              "      <th></th>\n",
              "      <th>carat</th>\n",
              "      <th>cut</th>\n",
              "      <th>color</th>\n",
              "      <th>clarity</th>\n",
              "      <th>depth</th>\n",
              "      <th>table</th>\n",
              "      <th>price</th>\n",
              "      <th>x</th>\n",
              "      <th>y</th>\n",
              "      <th>z</th>\n",
              "    </tr>\n",
              "  </thead>\n",
              "  <tbody>\n",
              "    <tr>\n",
              "      <th>0</th>\n",
              "      <td>0.23</td>\n",
              "      <td>Ideal</td>\n",
              "      <td>E</td>\n",
              "      <td>SI2</td>\n",
              "      <td>61.5</td>\n",
              "      <td>55.0</td>\n",
              "      <td>326</td>\n",
              "      <td>3.95</td>\n",
              "      <td>3.98</td>\n",
              "      <td>2.43</td>\n",
              "    </tr>\n",
              "    <tr>\n",
              "      <th>1</th>\n",
              "      <td>0.21</td>\n",
              "      <td>Premium</td>\n",
              "      <td>E</td>\n",
              "      <td>SI1</td>\n",
              "      <td>59.8</td>\n",
              "      <td>61.0</td>\n",
              "      <td>326</td>\n",
              "      <td>3.89</td>\n",
              "      <td>3.84</td>\n",
              "      <td>2.31</td>\n",
              "    </tr>\n",
              "    <tr>\n",
              "      <th>2</th>\n",
              "      <td>0.23</td>\n",
              "      <td>Good</td>\n",
              "      <td>E</td>\n",
              "      <td>VS1</td>\n",
              "      <td>56.9</td>\n",
              "      <td>65.0</td>\n",
              "      <td>327</td>\n",
              "      <td>4.05</td>\n",
              "      <td>4.07</td>\n",
              "      <td>2.31</td>\n",
              "    </tr>\n",
              "    <tr>\n",
              "      <th>3</th>\n",
              "      <td>0.29</td>\n",
              "      <td>Premium</td>\n",
              "      <td>I</td>\n",
              "      <td>VS2</td>\n",
              "      <td>62.4</td>\n",
              "      <td>58.0</td>\n",
              "      <td>334</td>\n",
              "      <td>4.20</td>\n",
              "      <td>4.23</td>\n",
              "      <td>2.63</td>\n",
              "    </tr>\n",
              "    <tr>\n",
              "      <th>4</th>\n",
              "      <td>0.31</td>\n",
              "      <td>Good</td>\n",
              "      <td>J</td>\n",
              "      <td>SI2</td>\n",
              "      <td>63.3</td>\n",
              "      <td>58.0</td>\n",
              "      <td>335</td>\n",
              "      <td>4.34</td>\n",
              "      <td>4.35</td>\n",
              "      <td>2.75</td>\n",
              "    </tr>\n",
              "  </tbody>\n",
              "</table>\n",
              "</div>"
            ],
            "text/plain": [
              "   carat      cut color clarity  depth  table  price     x     y     z\n",
              "0   0.23    Ideal     E     SI2   61.5   55.0    326  3.95  3.98  2.43\n",
              "1   0.21  Premium     E     SI1   59.8   61.0    326  3.89  3.84  2.31\n",
              "2   0.23     Good     E     VS1   56.9   65.0    327  4.05  4.07  2.31\n",
              "3   0.29  Premium     I     VS2   62.4   58.0    334  4.20  4.23  2.63\n",
              "4   0.31     Good     J     SI2   63.3   58.0    335  4.34  4.35  2.75"
            ]
          },
          "metadata": {},
          "execution_count": 5
        }
      ]
    },
    {
      "cell_type": "code",
      "metadata": {
        "colab": {
          "base_uri": "https://localhost:8080/",
          "height": 235
        },
        "id": "2qOA6D_4ohuv",
        "outputId": "dd6b8aef-7def-43a5-95ea-83791f4f19a7"
      },
      "source": [
        "df.groupby('cut').mean() # promedio para todas la variables agrupando por la columna cut"
      ],
      "execution_count": null,
      "outputs": [
        {
          "output_type": "execute_result",
          "data": {
            "text/html": [
              "<div>\n",
              "<style scoped>\n",
              "    .dataframe tbody tr th:only-of-type {\n",
              "        vertical-align: middle;\n",
              "    }\n",
              "\n",
              "    .dataframe tbody tr th {\n",
              "        vertical-align: top;\n",
              "    }\n",
              "\n",
              "    .dataframe thead th {\n",
              "        text-align: right;\n",
              "    }\n",
              "</style>\n",
              "<table border=\"1\" class=\"dataframe\">\n",
              "  <thead>\n",
              "    <tr style=\"text-align: right;\">\n",
              "      <th></th>\n",
              "      <th>carat</th>\n",
              "      <th>depth</th>\n",
              "      <th>table</th>\n",
              "      <th>price</th>\n",
              "      <th>x</th>\n",
              "      <th>y</th>\n",
              "      <th>z</th>\n",
              "    </tr>\n",
              "    <tr>\n",
              "      <th>cut</th>\n",
              "      <th></th>\n",
              "      <th></th>\n",
              "      <th></th>\n",
              "      <th></th>\n",
              "      <th></th>\n",
              "      <th></th>\n",
              "      <th></th>\n",
              "    </tr>\n",
              "  </thead>\n",
              "  <tbody>\n",
              "    <tr>\n",
              "      <th>Ideal</th>\n",
              "      <td>0.70</td>\n",
              "      <td>61.71</td>\n",
              "      <td>55.95</td>\n",
              "      <td>3,457.54</td>\n",
              "      <td>5.51</td>\n",
              "      <td>5.52</td>\n",
              "      <td>3.40</td>\n",
              "    </tr>\n",
              "    <tr>\n",
              "      <th>Premium</th>\n",
              "      <td>0.89</td>\n",
              "      <td>61.26</td>\n",
              "      <td>58.75</td>\n",
              "      <td>4,584.26</td>\n",
              "      <td>5.97</td>\n",
              "      <td>5.94</td>\n",
              "      <td>3.65</td>\n",
              "    </tr>\n",
              "    <tr>\n",
              "      <th>Very Good</th>\n",
              "      <td>0.81</td>\n",
              "      <td>61.82</td>\n",
              "      <td>57.96</td>\n",
              "      <td>3,981.76</td>\n",
              "      <td>5.74</td>\n",
              "      <td>5.77</td>\n",
              "      <td>3.56</td>\n",
              "    </tr>\n",
              "    <tr>\n",
              "      <th>Good</th>\n",
              "      <td>0.85</td>\n",
              "      <td>62.37</td>\n",
              "      <td>58.69</td>\n",
              "      <td>3,928.86</td>\n",
              "      <td>5.84</td>\n",
              "      <td>5.85</td>\n",
              "      <td>3.64</td>\n",
              "    </tr>\n",
              "    <tr>\n",
              "      <th>Fair</th>\n",
              "      <td>1.05</td>\n",
              "      <td>64.04</td>\n",
              "      <td>59.05</td>\n",
              "      <td>4,358.76</td>\n",
              "      <td>6.25</td>\n",
              "      <td>6.18</td>\n",
              "      <td>3.98</td>\n",
              "    </tr>\n",
              "  </tbody>\n",
              "</table>\n",
              "</div>"
            ],
            "text/plain": [
              "           carat  depth  table    price    x    y    z\n",
              "cut                                                   \n",
              "Ideal       0.70  61.71  55.95 3,457.54 5.51 5.52 3.40\n",
              "Premium     0.89  61.26  58.75 4,584.26 5.97 5.94 3.65\n",
              "Very Good   0.81  61.82  57.96 3,981.76 5.74 5.77 3.56\n",
              "Good        0.85  62.37  58.69 3,928.86 5.84 5.85 3.64\n",
              "Fair        1.05  64.04  59.05 4,358.76 6.25 6.18 3.98"
            ]
          },
          "metadata": {},
          "execution_count": 8
        }
      ]
    },
    {
      "cell_type": "code",
      "metadata": {
        "colab": {
          "base_uri": "https://localhost:8080/"
        },
        "id": "Q6Eks9mEpWZm",
        "outputId": "c0a472e6-1812-4d9a-e2ae-cd5a21821718"
      },
      "source": [
        "df.groupby('cut')['carat'].mean() # sacar la media agrupando por cut para la columna carat"
      ],
      "execution_count": null,
      "outputs": [
        {
          "output_type": "execute_result",
          "data": {
            "text/plain": [
              "cut\n",
              "Ideal       0.70\n",
              "Premium     0.89\n",
              "Very Good   0.81\n",
              "Good        0.85\n",
              "Fair        1.05\n",
              "Name: carat, dtype: float64"
            ]
          },
          "metadata": {},
          "execution_count": 9
        }
      ]
    },
    {
      "cell_type": "code",
      "metadata": {
        "colab": {
          "base_uri": "https://localhost:8080/"
        },
        "id": "jG8Dde8ppqUY",
        "outputId": "78874b62-f6bf-41a0-8be8-a46bfaf9e3f1"
      },
      "source": [
        "df.groupby('cut')['carat'].count() # conteo"
      ],
      "execution_count": null,
      "outputs": [
        {
          "output_type": "execute_result",
          "data": {
            "text/plain": [
              "cut\n",
              "Ideal        21551\n",
              "Premium      13791\n",
              "Very Good    12082\n",
              "Good          4906\n",
              "Fair          1610\n",
              "Name: carat, dtype: int64"
            ]
          },
          "metadata": {},
          "execution_count": 10
        }
      ]
    },
    {
      "cell_type": "code",
      "metadata": {
        "id": "ziYqkZtopvdB",
        "colab": {
          "base_uri": "https://localhost:8080/"
        },
        "outputId": "e943f0e6-8046-4973-fcaa-c90b11650f5c"
      },
      "source": [
        "df.groupby('cut')['carat'].min() # mínimo"
      ],
      "execution_count": 4,
      "outputs": [
        {
          "output_type": "execute_result",
          "data": {
            "text/plain": [
              "cut\n",
              "Ideal        0.20\n",
              "Premium      0.20\n",
              "Very Good    0.20\n",
              "Good         0.23\n",
              "Fair         0.22\n",
              "Name: carat, dtype: float64"
            ]
          },
          "metadata": {},
          "execution_count": 4
        }
      ]
    },
    {
      "cell_type": "code",
      "metadata": {
        "colab": {
          "base_uri": "https://localhost:8080/"
        },
        "id": "jWhJncmebIMQ",
        "outputId": "b45c205d-1c26-4a99-fe25-ecc918f32fe3"
      },
      "source": [
        "for i in [0,1,2,3]:\n",
        "  print(i)"
      ],
      "execution_count": 5,
      "outputs": [
        {
          "output_type": "stream",
          "name": "stdout",
          "text": [
            "0\n",
            "1\n",
            "2\n",
            "3\n"
          ]
        }
      ]
    },
    {
      "cell_type": "code",
      "metadata": {
        "colab": {
          "base_uri": "https://localhost:8080/"
        },
        "id": "FPT08qCdbUCj",
        "outputId": "0988642b-40eb-4cef-e281-e6f335afd9fe"
      },
      "source": [
        "pd.options.display.float_format='{:,.2f}'.format\n",
        "\n",
        "for key_group,group in df.groupby('cut'):\n",
        "  grouped_price=group['price'].mean()\n",
        "\n",
        "  print('Cut:{},Price {}'.format(key_group,grouped_price))"
      ],
      "execution_count": 11,
      "outputs": [
        {
          "output_type": "stream",
          "name": "stdout",
          "text": [
            "Cut:Ideal,Price 3457.541970210199\n",
            "Cut:Premium,Price 4584.2577042999055\n",
            "Cut:Very Good,Price 3981.7598907465654\n",
            "Cut:Good,Price 3928.864451691806\n",
            "Cut:Fair,Price 4358.757763975155\n"
          ]
        }
      ]
    },
    {
      "cell_type": "code",
      "metadata": {
        "colab": {
          "base_uri": "https://localhost:8080/"
        },
        "id": "eg2_qp3bdj8L",
        "outputId": "47670c30-9a36-4cc7-f552-bf945e71ab9b"
      },
      "source": [
        "df.groupby(['cut','color'])['price'].mean() #agrupación por dos variables Se genera el precio promedio para cada color dentro de cada grupo cut"
      ],
      "execution_count": 13,
      "outputs": [
        {
          "output_type": "execute_result",
          "data": {
            "text/plain": [
              "cut        color\n",
              "Ideal      D       2,629.09\n",
              "           E       2,597.55\n",
              "           F       3,374.94\n",
              "           G       3,720.71\n",
              "           H       3,889.33\n",
              "           I       4,451.97\n",
              "           J       4,918.19\n",
              "Premium    D       3,631.29\n",
              "           E       3,538.91\n",
              "           F       4,324.89\n",
              "           G       4,500.74\n",
              "           H       5,216.71\n",
              "           I       5,946.18\n",
              "           J       6,294.59\n",
              "Very Good  D       3,470.47\n",
              "           E       3,214.65\n",
              "           F       3,778.82\n",
              "           G       3,872.75\n",
              "           H       4,535.39\n",
              "           I       5,255.88\n",
              "           J       5,103.51\n",
              "Good       D       3,405.38\n",
              "           E       3,423.64\n",
              "           F       3,495.75\n",
              "           G       4,123.48\n",
              "           H       4,276.25\n",
              "           I       5,078.53\n",
              "           J       4,574.17\n",
              "Fair       D       4,291.06\n",
              "           E       3,682.31\n",
              "           F       3,827.00\n",
              "           G       4,239.25\n",
              "           H       5,135.68\n",
              "           I       4,685.45\n",
              "           J       4,975.66\n",
              "Name: price, dtype: float64"
            ]
          },
          "metadata": {},
          "execution_count": 13
        }
      ]
    },
    {
      "cell_type": "code",
      "metadata": {
        "colab": {
          "base_uri": "https://localhost:8080/",
          "height": 1000
        },
        "id": "KClqeo9Wd81T",
        "outputId": "35b8dc49-922e-4116-daf5-268c1937a8bb"
      },
      "source": [
        "df.groupby(['cut','color'])['price'].aggregate([min,np.mean,max]) # generar varias funciones al tiempo con la función aggregate"
      ],
      "execution_count": 15,
      "outputs": [
        {
          "output_type": "execute_result",
          "data": {
            "text/html": [
              "<div>\n",
              "<style scoped>\n",
              "    .dataframe tbody tr th:only-of-type {\n",
              "        vertical-align: middle;\n",
              "    }\n",
              "\n",
              "    .dataframe tbody tr th {\n",
              "        vertical-align: top;\n",
              "    }\n",
              "\n",
              "    .dataframe thead th {\n",
              "        text-align: right;\n",
              "    }\n",
              "</style>\n",
              "<table border=\"1\" class=\"dataframe\">\n",
              "  <thead>\n",
              "    <tr style=\"text-align: right;\">\n",
              "      <th></th>\n",
              "      <th></th>\n",
              "      <th>min</th>\n",
              "      <th>mean</th>\n",
              "      <th>max</th>\n",
              "    </tr>\n",
              "    <tr>\n",
              "      <th>cut</th>\n",
              "      <th>color</th>\n",
              "      <th></th>\n",
              "      <th></th>\n",
              "      <th></th>\n",
              "    </tr>\n",
              "  </thead>\n",
              "  <tbody>\n",
              "    <tr>\n",
              "      <th rowspan=\"7\" valign=\"top\">Ideal</th>\n",
              "      <th>D</th>\n",
              "      <td>367</td>\n",
              "      <td>2,629.09</td>\n",
              "      <td>18693</td>\n",
              "    </tr>\n",
              "    <tr>\n",
              "      <th>E</th>\n",
              "      <td>326</td>\n",
              "      <td>2,597.55</td>\n",
              "      <td>18729</td>\n",
              "    </tr>\n",
              "    <tr>\n",
              "      <th>F</th>\n",
              "      <td>408</td>\n",
              "      <td>3,374.94</td>\n",
              "      <td>18780</td>\n",
              "    </tr>\n",
              "    <tr>\n",
              "      <th>G</th>\n",
              "      <td>361</td>\n",
              "      <td>3,720.71</td>\n",
              "      <td>18806</td>\n",
              "    </tr>\n",
              "    <tr>\n",
              "      <th>H</th>\n",
              "      <td>357</td>\n",
              "      <td>3,889.33</td>\n",
              "      <td>18760</td>\n",
              "    </tr>\n",
              "    <tr>\n",
              "      <th>I</th>\n",
              "      <td>348</td>\n",
              "      <td>4,451.97</td>\n",
              "      <td>18779</td>\n",
              "    </tr>\n",
              "    <tr>\n",
              "      <th>J</th>\n",
              "      <td>340</td>\n",
              "      <td>4,918.19</td>\n",
              "      <td>18508</td>\n",
              "    </tr>\n",
              "    <tr>\n",
              "      <th rowspan=\"7\" valign=\"top\">Premium</th>\n",
              "      <th>D</th>\n",
              "      <td>367</td>\n",
              "      <td>3,631.29</td>\n",
              "      <td>18575</td>\n",
              "    </tr>\n",
              "    <tr>\n",
              "      <th>E</th>\n",
              "      <td>326</td>\n",
              "      <td>3,538.91</td>\n",
              "      <td>18477</td>\n",
              "    </tr>\n",
              "    <tr>\n",
              "      <th>F</th>\n",
              "      <td>342</td>\n",
              "      <td>4,324.89</td>\n",
              "      <td>18791</td>\n",
              "    </tr>\n",
              "    <tr>\n",
              "      <th>G</th>\n",
              "      <td>382</td>\n",
              "      <td>4,500.74</td>\n",
              "      <td>18741</td>\n",
              "    </tr>\n",
              "    <tr>\n",
              "      <th>H</th>\n",
              "      <td>368</td>\n",
              "      <td>5,216.71</td>\n",
              "      <td>18795</td>\n",
              "    </tr>\n",
              "    <tr>\n",
              "      <th>I</th>\n",
              "      <td>334</td>\n",
              "      <td>5,946.18</td>\n",
              "      <td>18823</td>\n",
              "    </tr>\n",
              "    <tr>\n",
              "      <th>J</th>\n",
              "      <td>363</td>\n",
              "      <td>6,294.59</td>\n",
              "      <td>18710</td>\n",
              "    </tr>\n",
              "    <tr>\n",
              "      <th rowspan=\"7\" valign=\"top\">Very Good</th>\n",
              "      <th>D</th>\n",
              "      <td>357</td>\n",
              "      <td>3,470.47</td>\n",
              "      <td>18542</td>\n",
              "    </tr>\n",
              "    <tr>\n",
              "      <th>E</th>\n",
              "      <td>352</td>\n",
              "      <td>3,214.65</td>\n",
              "      <td>18731</td>\n",
              "    </tr>\n",
              "    <tr>\n",
              "      <th>F</th>\n",
              "      <td>357</td>\n",
              "      <td>3,778.82</td>\n",
              "      <td>18777</td>\n",
              "    </tr>\n",
              "    <tr>\n",
              "      <th>G</th>\n",
              "      <td>354</td>\n",
              "      <td>3,872.75</td>\n",
              "      <td>18818</td>\n",
              "    </tr>\n",
              "    <tr>\n",
              "      <th>H</th>\n",
              "      <td>337</td>\n",
              "      <td>4,535.39</td>\n",
              "      <td>18803</td>\n",
              "    </tr>\n",
              "    <tr>\n",
              "      <th>I</th>\n",
              "      <td>336</td>\n",
              "      <td>5,255.88</td>\n",
              "      <td>18500</td>\n",
              "    </tr>\n",
              "    <tr>\n",
              "      <th>J</th>\n",
              "      <td>336</td>\n",
              "      <td>5,103.51</td>\n",
              "      <td>18430</td>\n",
              "    </tr>\n",
              "    <tr>\n",
              "      <th rowspan=\"7\" valign=\"top\">Good</th>\n",
              "      <th>D</th>\n",
              "      <td>361</td>\n",
              "      <td>3,405.38</td>\n",
              "      <td>18468</td>\n",
              "    </tr>\n",
              "    <tr>\n",
              "      <th>E</th>\n",
              "      <td>327</td>\n",
              "      <td>3,423.64</td>\n",
              "      <td>18236</td>\n",
              "    </tr>\n",
              "    <tr>\n",
              "      <th>F</th>\n",
              "      <td>357</td>\n",
              "      <td>3,495.75</td>\n",
              "      <td>18686</td>\n",
              "    </tr>\n",
              "    <tr>\n",
              "      <th>G</th>\n",
              "      <td>394</td>\n",
              "      <td>4,123.48</td>\n",
              "      <td>18788</td>\n",
              "    </tr>\n",
              "    <tr>\n",
              "      <th>H</th>\n",
              "      <td>368</td>\n",
              "      <td>4,276.25</td>\n",
              "      <td>18640</td>\n",
              "    </tr>\n",
              "    <tr>\n",
              "      <th>I</th>\n",
              "      <td>351</td>\n",
              "      <td>5,078.53</td>\n",
              "      <td>18707</td>\n",
              "    </tr>\n",
              "    <tr>\n",
              "      <th>J</th>\n",
              "      <td>335</td>\n",
              "      <td>4,574.17</td>\n",
              "      <td>18325</td>\n",
              "    </tr>\n",
              "    <tr>\n",
              "      <th rowspan=\"7\" valign=\"top\">Fair</th>\n",
              "      <th>D</th>\n",
              "      <td>536</td>\n",
              "      <td>4,291.06</td>\n",
              "      <td>16386</td>\n",
              "    </tr>\n",
              "    <tr>\n",
              "      <th>E</th>\n",
              "      <td>337</td>\n",
              "      <td>3,682.31</td>\n",
              "      <td>15584</td>\n",
              "    </tr>\n",
              "    <tr>\n",
              "      <th>F</th>\n",
              "      <td>496</td>\n",
              "      <td>3,827.00</td>\n",
              "      <td>17995</td>\n",
              "    </tr>\n",
              "    <tr>\n",
              "      <th>G</th>\n",
              "      <td>369</td>\n",
              "      <td>4,239.25</td>\n",
              "      <td>18574</td>\n",
              "    </tr>\n",
              "    <tr>\n",
              "      <th>H</th>\n",
              "      <td>659</td>\n",
              "      <td>5,135.68</td>\n",
              "      <td>18565</td>\n",
              "    </tr>\n",
              "    <tr>\n",
              "      <th>I</th>\n",
              "      <td>735</td>\n",
              "      <td>4,685.45</td>\n",
              "      <td>18242</td>\n",
              "    </tr>\n",
              "    <tr>\n",
              "      <th>J</th>\n",
              "      <td>416</td>\n",
              "      <td>4,975.66</td>\n",
              "      <td>18531</td>\n",
              "    </tr>\n",
              "  </tbody>\n",
              "</table>\n",
              "</div>"
            ],
            "text/plain": [
              "                 min     mean    max\n",
              "cut       color                     \n",
              "Ideal     D      367 2,629.09  18693\n",
              "          E      326 2,597.55  18729\n",
              "          F      408 3,374.94  18780\n",
              "          G      361 3,720.71  18806\n",
              "          H      357 3,889.33  18760\n",
              "          I      348 4,451.97  18779\n",
              "          J      340 4,918.19  18508\n",
              "Premium   D      367 3,631.29  18575\n",
              "          E      326 3,538.91  18477\n",
              "          F      342 4,324.89  18791\n",
              "          G      382 4,500.74  18741\n",
              "          H      368 5,216.71  18795\n",
              "          I      334 5,946.18  18823\n",
              "          J      363 6,294.59  18710\n",
              "Very Good D      357 3,470.47  18542\n",
              "          E      352 3,214.65  18731\n",
              "          F      357 3,778.82  18777\n",
              "          G      354 3,872.75  18818\n",
              "          H      337 4,535.39  18803\n",
              "          I      336 5,255.88  18500\n",
              "          J      336 5,103.51  18430\n",
              "Good      D      361 3,405.38  18468\n",
              "          E      327 3,423.64  18236\n",
              "          F      357 3,495.75  18686\n",
              "          G      394 4,123.48  18788\n",
              "          H      368 4,276.25  18640\n",
              "          I      351 5,078.53  18707\n",
              "          J      335 4,574.17  18325\n",
              "Fair      D      536 4,291.06  16386\n",
              "          E      337 3,682.31  15584\n",
              "          F      496 3,827.00  17995\n",
              "          G      369 4,239.25  18574\n",
              "          H      659 5,135.68  18565\n",
              "          I      735 4,685.45  18242\n",
              "          J      416 4,975.66  18531"
            ]
          },
          "metadata": {},
          "execution_count": 15
        }
      ]
    },
    {
      "cell_type": "code",
      "metadata": {
        "id": "0MPAS4hQfCyb"
      },
      "source": [
        "def promedio_mil(x): # definición de una función\n",
        "  return np.mean(x)/1000"
      ],
      "execution_count": 18,
      "outputs": []
    },
    {
      "cell_type": "code",
      "metadata": {
        "colab": {
          "base_uri": "https://localhost:8080/",
          "height": 1000
        },
        "id": "_FkAli9-fYsb",
        "outputId": "eb19b4af-7e31-4327-d61a-d6b29e13620f"
      },
      "source": [
        "df.groupby(['cut','color'])['price'].aggregate([min,np.mean,max,promedio_mil])"
      ],
      "execution_count": 19,
      "outputs": [
        {
          "output_type": "execute_result",
          "data": {
            "text/html": [
              "<div>\n",
              "<style scoped>\n",
              "    .dataframe tbody tr th:only-of-type {\n",
              "        vertical-align: middle;\n",
              "    }\n",
              "\n",
              "    .dataframe tbody tr th {\n",
              "        vertical-align: top;\n",
              "    }\n",
              "\n",
              "    .dataframe thead th {\n",
              "        text-align: right;\n",
              "    }\n",
              "</style>\n",
              "<table border=\"1\" class=\"dataframe\">\n",
              "  <thead>\n",
              "    <tr style=\"text-align: right;\">\n",
              "      <th></th>\n",
              "      <th></th>\n",
              "      <th>min</th>\n",
              "      <th>mean</th>\n",
              "      <th>max</th>\n",
              "      <th>promedio_mil</th>\n",
              "    </tr>\n",
              "    <tr>\n",
              "      <th>cut</th>\n",
              "      <th>color</th>\n",
              "      <th></th>\n",
              "      <th></th>\n",
              "      <th></th>\n",
              "      <th></th>\n",
              "    </tr>\n",
              "  </thead>\n",
              "  <tbody>\n",
              "    <tr>\n",
              "      <th rowspan=\"7\" valign=\"top\">Ideal</th>\n",
              "      <th>D</th>\n",
              "      <td>367</td>\n",
              "      <td>2,629.09</td>\n",
              "      <td>18693</td>\n",
              "      <td>2.63</td>\n",
              "    </tr>\n",
              "    <tr>\n",
              "      <th>E</th>\n",
              "      <td>326</td>\n",
              "      <td>2,597.55</td>\n",
              "      <td>18729</td>\n",
              "      <td>2.60</td>\n",
              "    </tr>\n",
              "    <tr>\n",
              "      <th>F</th>\n",
              "      <td>408</td>\n",
              "      <td>3,374.94</td>\n",
              "      <td>18780</td>\n",
              "      <td>3.37</td>\n",
              "    </tr>\n",
              "    <tr>\n",
              "      <th>G</th>\n",
              "      <td>361</td>\n",
              "      <td>3,720.71</td>\n",
              "      <td>18806</td>\n",
              "      <td>3.72</td>\n",
              "    </tr>\n",
              "    <tr>\n",
              "      <th>H</th>\n",
              "      <td>357</td>\n",
              "      <td>3,889.33</td>\n",
              "      <td>18760</td>\n",
              "      <td>3.89</td>\n",
              "    </tr>\n",
              "    <tr>\n",
              "      <th>I</th>\n",
              "      <td>348</td>\n",
              "      <td>4,451.97</td>\n",
              "      <td>18779</td>\n",
              "      <td>4.45</td>\n",
              "    </tr>\n",
              "    <tr>\n",
              "      <th>J</th>\n",
              "      <td>340</td>\n",
              "      <td>4,918.19</td>\n",
              "      <td>18508</td>\n",
              "      <td>4.92</td>\n",
              "    </tr>\n",
              "    <tr>\n",
              "      <th rowspan=\"7\" valign=\"top\">Premium</th>\n",
              "      <th>D</th>\n",
              "      <td>367</td>\n",
              "      <td>3,631.29</td>\n",
              "      <td>18575</td>\n",
              "      <td>3.63</td>\n",
              "    </tr>\n",
              "    <tr>\n",
              "      <th>E</th>\n",
              "      <td>326</td>\n",
              "      <td>3,538.91</td>\n",
              "      <td>18477</td>\n",
              "      <td>3.54</td>\n",
              "    </tr>\n",
              "    <tr>\n",
              "      <th>F</th>\n",
              "      <td>342</td>\n",
              "      <td>4,324.89</td>\n",
              "      <td>18791</td>\n",
              "      <td>4.32</td>\n",
              "    </tr>\n",
              "    <tr>\n",
              "      <th>G</th>\n",
              "      <td>382</td>\n",
              "      <td>4,500.74</td>\n",
              "      <td>18741</td>\n",
              "      <td>4.50</td>\n",
              "    </tr>\n",
              "    <tr>\n",
              "      <th>H</th>\n",
              "      <td>368</td>\n",
              "      <td>5,216.71</td>\n",
              "      <td>18795</td>\n",
              "      <td>5.22</td>\n",
              "    </tr>\n",
              "    <tr>\n",
              "      <th>I</th>\n",
              "      <td>334</td>\n",
              "      <td>5,946.18</td>\n",
              "      <td>18823</td>\n",
              "      <td>5.95</td>\n",
              "    </tr>\n",
              "    <tr>\n",
              "      <th>J</th>\n",
              "      <td>363</td>\n",
              "      <td>6,294.59</td>\n",
              "      <td>18710</td>\n",
              "      <td>6.29</td>\n",
              "    </tr>\n",
              "    <tr>\n",
              "      <th rowspan=\"7\" valign=\"top\">Very Good</th>\n",
              "      <th>D</th>\n",
              "      <td>357</td>\n",
              "      <td>3,470.47</td>\n",
              "      <td>18542</td>\n",
              "      <td>3.47</td>\n",
              "    </tr>\n",
              "    <tr>\n",
              "      <th>E</th>\n",
              "      <td>352</td>\n",
              "      <td>3,214.65</td>\n",
              "      <td>18731</td>\n",
              "      <td>3.21</td>\n",
              "    </tr>\n",
              "    <tr>\n",
              "      <th>F</th>\n",
              "      <td>357</td>\n",
              "      <td>3,778.82</td>\n",
              "      <td>18777</td>\n",
              "      <td>3.78</td>\n",
              "    </tr>\n",
              "    <tr>\n",
              "      <th>G</th>\n",
              "      <td>354</td>\n",
              "      <td>3,872.75</td>\n",
              "      <td>18818</td>\n",
              "      <td>3.87</td>\n",
              "    </tr>\n",
              "    <tr>\n",
              "      <th>H</th>\n",
              "      <td>337</td>\n",
              "      <td>4,535.39</td>\n",
              "      <td>18803</td>\n",
              "      <td>4.54</td>\n",
              "    </tr>\n",
              "    <tr>\n",
              "      <th>I</th>\n",
              "      <td>336</td>\n",
              "      <td>5,255.88</td>\n",
              "      <td>18500</td>\n",
              "      <td>5.26</td>\n",
              "    </tr>\n",
              "    <tr>\n",
              "      <th>J</th>\n",
              "      <td>336</td>\n",
              "      <td>5,103.51</td>\n",
              "      <td>18430</td>\n",
              "      <td>5.10</td>\n",
              "    </tr>\n",
              "    <tr>\n",
              "      <th rowspan=\"7\" valign=\"top\">Good</th>\n",
              "      <th>D</th>\n",
              "      <td>361</td>\n",
              "      <td>3,405.38</td>\n",
              "      <td>18468</td>\n",
              "      <td>3.41</td>\n",
              "    </tr>\n",
              "    <tr>\n",
              "      <th>E</th>\n",
              "      <td>327</td>\n",
              "      <td>3,423.64</td>\n",
              "      <td>18236</td>\n",
              "      <td>3.42</td>\n",
              "    </tr>\n",
              "    <tr>\n",
              "      <th>F</th>\n",
              "      <td>357</td>\n",
              "      <td>3,495.75</td>\n",
              "      <td>18686</td>\n",
              "      <td>3.50</td>\n",
              "    </tr>\n",
              "    <tr>\n",
              "      <th>G</th>\n",
              "      <td>394</td>\n",
              "      <td>4,123.48</td>\n",
              "      <td>18788</td>\n",
              "      <td>4.12</td>\n",
              "    </tr>\n",
              "    <tr>\n",
              "      <th>H</th>\n",
              "      <td>368</td>\n",
              "      <td>4,276.25</td>\n",
              "      <td>18640</td>\n",
              "      <td>4.28</td>\n",
              "    </tr>\n",
              "    <tr>\n",
              "      <th>I</th>\n",
              "      <td>351</td>\n",
              "      <td>5,078.53</td>\n",
              "      <td>18707</td>\n",
              "      <td>5.08</td>\n",
              "    </tr>\n",
              "    <tr>\n",
              "      <th>J</th>\n",
              "      <td>335</td>\n",
              "      <td>4,574.17</td>\n",
              "      <td>18325</td>\n",
              "      <td>4.57</td>\n",
              "    </tr>\n",
              "    <tr>\n",
              "      <th rowspan=\"7\" valign=\"top\">Fair</th>\n",
              "      <th>D</th>\n",
              "      <td>536</td>\n",
              "      <td>4,291.06</td>\n",
              "      <td>16386</td>\n",
              "      <td>4.29</td>\n",
              "    </tr>\n",
              "    <tr>\n",
              "      <th>E</th>\n",
              "      <td>337</td>\n",
              "      <td>3,682.31</td>\n",
              "      <td>15584</td>\n",
              "      <td>3.68</td>\n",
              "    </tr>\n",
              "    <tr>\n",
              "      <th>F</th>\n",
              "      <td>496</td>\n",
              "      <td>3,827.00</td>\n",
              "      <td>17995</td>\n",
              "      <td>3.83</td>\n",
              "    </tr>\n",
              "    <tr>\n",
              "      <th>G</th>\n",
              "      <td>369</td>\n",
              "      <td>4,239.25</td>\n",
              "      <td>18574</td>\n",
              "      <td>4.24</td>\n",
              "    </tr>\n",
              "    <tr>\n",
              "      <th>H</th>\n",
              "      <td>659</td>\n",
              "      <td>5,135.68</td>\n",
              "      <td>18565</td>\n",
              "      <td>5.14</td>\n",
              "    </tr>\n",
              "    <tr>\n",
              "      <th>I</th>\n",
              "      <td>735</td>\n",
              "      <td>4,685.45</td>\n",
              "      <td>18242</td>\n",
              "      <td>4.69</td>\n",
              "    </tr>\n",
              "    <tr>\n",
              "      <th>J</th>\n",
              "      <td>416</td>\n",
              "      <td>4,975.66</td>\n",
              "      <td>18531</td>\n",
              "      <td>4.98</td>\n",
              "    </tr>\n",
              "  </tbody>\n",
              "</table>\n",
              "</div>"
            ],
            "text/plain": [
              "                 min     mean    max  promedio_mil\n",
              "cut       color                                   \n",
              "Ideal     D      367 2,629.09  18693          2.63\n",
              "          E      326 2,597.55  18729          2.60\n",
              "          F      408 3,374.94  18780          3.37\n",
              "          G      361 3,720.71  18806          3.72\n",
              "          H      357 3,889.33  18760          3.89\n",
              "          I      348 4,451.97  18779          4.45\n",
              "          J      340 4,918.19  18508          4.92\n",
              "Premium   D      367 3,631.29  18575          3.63\n",
              "          E      326 3,538.91  18477          3.54\n",
              "          F      342 4,324.89  18791          4.32\n",
              "          G      382 4,500.74  18741          4.50\n",
              "          H      368 5,216.71  18795          5.22\n",
              "          I      334 5,946.18  18823          5.95\n",
              "          J      363 6,294.59  18710          6.29\n",
              "Very Good D      357 3,470.47  18542          3.47\n",
              "          E      352 3,214.65  18731          3.21\n",
              "          F      357 3,778.82  18777          3.78\n",
              "          G      354 3,872.75  18818          3.87\n",
              "          H      337 4,535.39  18803          4.54\n",
              "          I      336 5,255.88  18500          5.26\n",
              "          J      336 5,103.51  18430          5.10\n",
              "Good      D      361 3,405.38  18468          3.41\n",
              "          E      327 3,423.64  18236          3.42\n",
              "          F      357 3,495.75  18686          3.50\n",
              "          G      394 4,123.48  18788          4.12\n",
              "          H      368 4,276.25  18640          4.28\n",
              "          I      351 5,078.53  18707          5.08\n",
              "          J      335 4,574.17  18325          4.57\n",
              "Fair      D      536 4,291.06  16386          4.29\n",
              "          E      337 3,682.31  15584          3.68\n",
              "          F      496 3,827.00  17995          3.83\n",
              "          G      369 4,239.25  18574          4.24\n",
              "          H      659 5,135.68  18565          5.14\n",
              "          I      735 4,685.45  18242          4.69\n",
              "          J      416 4,975.66  18531          4.98"
            ]
          },
          "metadata": {},
          "execution_count": 19
        }
      ]
    },
    {
      "cell_type": "code",
      "metadata": {
        "id": "WWDtrp0cr8SW"
      },
      "source": [
        "def filtro(x):\n",
        "  return promedio_mil(x['price'])>4 # el x corresponde al nombre del dataframe. Se selecciona price del dataframe y se filtra los mayores a 4"
      ],
      "execution_count": 20,
      "outputs": []
    },
    {
      "cell_type": "code",
      "metadata": {
        "colab": {
          "base_uri": "https://localhost:8080/",
          "height": 419
        },
        "id": "Fsr-Qq6Rs1gw",
        "outputId": "41dfd724-8232-49ac-98f7-a997f797c43c"
      },
      "source": [
        "df.groupby('cut').filter(filtro)"
      ],
      "execution_count": 21,
      "outputs": [
        {
          "output_type": "execute_result",
          "data": {
            "text/html": [
              "<div>\n",
              "<style scoped>\n",
              "    .dataframe tbody tr th:only-of-type {\n",
              "        vertical-align: middle;\n",
              "    }\n",
              "\n",
              "    .dataframe tbody tr th {\n",
              "        vertical-align: top;\n",
              "    }\n",
              "\n",
              "    .dataframe thead th {\n",
              "        text-align: right;\n",
              "    }\n",
              "</style>\n",
              "<table border=\"1\" class=\"dataframe\">\n",
              "  <thead>\n",
              "    <tr style=\"text-align: right;\">\n",
              "      <th></th>\n",
              "      <th>carat</th>\n",
              "      <th>cut</th>\n",
              "      <th>color</th>\n",
              "      <th>clarity</th>\n",
              "      <th>depth</th>\n",
              "      <th>table</th>\n",
              "      <th>price</th>\n",
              "      <th>x</th>\n",
              "      <th>y</th>\n",
              "      <th>z</th>\n",
              "    </tr>\n",
              "  </thead>\n",
              "  <tbody>\n",
              "    <tr>\n",
              "      <th>1</th>\n",
              "      <td>0.21</td>\n",
              "      <td>Premium</td>\n",
              "      <td>E</td>\n",
              "      <td>SI1</td>\n",
              "      <td>59.80</td>\n",
              "      <td>61.00</td>\n",
              "      <td>326</td>\n",
              "      <td>3.89</td>\n",
              "      <td>3.84</td>\n",
              "      <td>2.31</td>\n",
              "    </tr>\n",
              "    <tr>\n",
              "      <th>3</th>\n",
              "      <td>0.29</td>\n",
              "      <td>Premium</td>\n",
              "      <td>I</td>\n",
              "      <td>VS2</td>\n",
              "      <td>62.40</td>\n",
              "      <td>58.00</td>\n",
              "      <td>334</td>\n",
              "      <td>4.20</td>\n",
              "      <td>4.23</td>\n",
              "      <td>2.63</td>\n",
              "    </tr>\n",
              "    <tr>\n",
              "      <th>8</th>\n",
              "      <td>0.22</td>\n",
              "      <td>Fair</td>\n",
              "      <td>E</td>\n",
              "      <td>VS2</td>\n",
              "      <td>65.10</td>\n",
              "      <td>61.00</td>\n",
              "      <td>337</td>\n",
              "      <td>3.87</td>\n",
              "      <td>3.78</td>\n",
              "      <td>2.49</td>\n",
              "    </tr>\n",
              "    <tr>\n",
              "      <th>12</th>\n",
              "      <td>0.22</td>\n",
              "      <td>Premium</td>\n",
              "      <td>F</td>\n",
              "      <td>SI1</td>\n",
              "      <td>60.40</td>\n",
              "      <td>61.00</td>\n",
              "      <td>342</td>\n",
              "      <td>3.88</td>\n",
              "      <td>3.84</td>\n",
              "      <td>2.33</td>\n",
              "    </tr>\n",
              "    <tr>\n",
              "      <th>14</th>\n",
              "      <td>0.20</td>\n",
              "      <td>Premium</td>\n",
              "      <td>E</td>\n",
              "      <td>SI2</td>\n",
              "      <td>60.20</td>\n",
              "      <td>62.00</td>\n",
              "      <td>345</td>\n",
              "      <td>3.79</td>\n",
              "      <td>3.75</td>\n",
              "      <td>2.27</td>\n",
              "    </tr>\n",
              "    <tr>\n",
              "      <th>...</th>\n",
              "      <td>...</td>\n",
              "      <td>...</td>\n",
              "      <td>...</td>\n",
              "      <td>...</td>\n",
              "      <td>...</td>\n",
              "      <td>...</td>\n",
              "      <td>...</td>\n",
              "      <td>...</td>\n",
              "      <td>...</td>\n",
              "      <td>...</td>\n",
              "    </tr>\n",
              "    <tr>\n",
              "      <th>53928</th>\n",
              "      <td>0.79</td>\n",
              "      <td>Premium</td>\n",
              "      <td>E</td>\n",
              "      <td>SI2</td>\n",
              "      <td>61.40</td>\n",
              "      <td>58.00</td>\n",
              "      <td>2756</td>\n",
              "      <td>6.03</td>\n",
              "      <td>5.96</td>\n",
              "      <td>3.68</td>\n",
              "    </tr>\n",
              "    <tr>\n",
              "      <th>53930</th>\n",
              "      <td>0.71</td>\n",
              "      <td>Premium</td>\n",
              "      <td>E</td>\n",
              "      <td>SI1</td>\n",
              "      <td>60.50</td>\n",
              "      <td>55.00</td>\n",
              "      <td>2756</td>\n",
              "      <td>5.79</td>\n",
              "      <td>5.74</td>\n",
              "      <td>3.49</td>\n",
              "    </tr>\n",
              "    <tr>\n",
              "      <th>53931</th>\n",
              "      <td>0.71</td>\n",
              "      <td>Premium</td>\n",
              "      <td>F</td>\n",
              "      <td>SI1</td>\n",
              "      <td>59.80</td>\n",
              "      <td>62.00</td>\n",
              "      <td>2756</td>\n",
              "      <td>5.74</td>\n",
              "      <td>5.73</td>\n",
              "      <td>3.43</td>\n",
              "    </tr>\n",
              "    <tr>\n",
              "      <th>53934</th>\n",
              "      <td>0.72</td>\n",
              "      <td>Premium</td>\n",
              "      <td>D</td>\n",
              "      <td>SI1</td>\n",
              "      <td>62.70</td>\n",
              "      <td>59.00</td>\n",
              "      <td>2757</td>\n",
              "      <td>5.69</td>\n",
              "      <td>5.73</td>\n",
              "      <td>3.58</td>\n",
              "    </tr>\n",
              "    <tr>\n",
              "      <th>53938</th>\n",
              "      <td>0.86</td>\n",
              "      <td>Premium</td>\n",
              "      <td>H</td>\n",
              "      <td>SI2</td>\n",
              "      <td>61.00</td>\n",
              "      <td>58.00</td>\n",
              "      <td>2757</td>\n",
              "      <td>6.15</td>\n",
              "      <td>6.12</td>\n",
              "      <td>3.74</td>\n",
              "    </tr>\n",
              "  </tbody>\n",
              "</table>\n",
              "<p>15401 rows × 10 columns</p>\n",
              "</div>"
            ],
            "text/plain": [
              "       carat      cut color clarity  depth  table  price    x    y    z\n",
              "1       0.21  Premium     E     SI1  59.80  61.00    326 3.89 3.84 2.31\n",
              "3       0.29  Premium     I     VS2  62.40  58.00    334 4.20 4.23 2.63\n",
              "8       0.22     Fair     E     VS2  65.10  61.00    337 3.87 3.78 2.49\n",
              "12      0.22  Premium     F     SI1  60.40  61.00    342 3.88 3.84 2.33\n",
              "14      0.20  Premium     E     SI2  60.20  62.00    345 3.79 3.75 2.27\n",
              "...      ...      ...   ...     ...    ...    ...    ...  ...  ...  ...\n",
              "53928   0.79  Premium     E     SI2  61.40  58.00   2756 6.03 5.96 3.68\n",
              "53930   0.71  Premium     E     SI1  60.50  55.00   2756 5.79 5.74 3.49\n",
              "53931   0.71  Premium     F     SI1  59.80  62.00   2756 5.74 5.73 3.43\n",
              "53934   0.72  Premium     D     SI1  62.70  59.00   2757 5.69 5.73 3.58\n",
              "53938   0.86  Premium     H     SI2  61.00  58.00   2757 6.15 6.12 3.74\n",
              "\n",
              "[15401 rows x 10 columns]"
            ]
          },
          "metadata": {},
          "execution_count": 21
        }
      ]
    },
    {
      "cell_type": "code",
      "metadata": {
        "colab": {
          "base_uri": "https://localhost:8080/",
          "height": 390
        },
        "id": "6ikIGwIPtOer",
        "outputId": "0c746c3b-0233-4d01-e020-68f96ccf7c2d"
      },
      "source": [
        "df = pd.DataFrame({'a': ['w'] * 4 + ['x'] * 3 + ['y'] * 2 + ['z']+['v'], \n",
        "                   'b': [1, 1, 1, 1, 2, 2, 2, 3, 3, 4,5]})\n",
        "df # datos repetidos"
      ],
      "execution_count": 22,
      "outputs": [
        {
          "output_type": "execute_result",
          "data": {
            "text/html": [
              "<div>\n",
              "<style scoped>\n",
              "    .dataframe tbody tr th:only-of-type {\n",
              "        vertical-align: middle;\n",
              "    }\n",
              "\n",
              "    .dataframe tbody tr th {\n",
              "        vertical-align: top;\n",
              "    }\n",
              "\n",
              "    .dataframe thead th {\n",
              "        text-align: right;\n",
              "    }\n",
              "</style>\n",
              "<table border=\"1\" class=\"dataframe\">\n",
              "  <thead>\n",
              "    <tr style=\"text-align: right;\">\n",
              "      <th></th>\n",
              "      <th>a</th>\n",
              "      <th>b</th>\n",
              "    </tr>\n",
              "  </thead>\n",
              "  <tbody>\n",
              "    <tr>\n",
              "      <th>0</th>\n",
              "      <td>w</td>\n",
              "      <td>1</td>\n",
              "    </tr>\n",
              "    <tr>\n",
              "      <th>1</th>\n",
              "      <td>w</td>\n",
              "      <td>1</td>\n",
              "    </tr>\n",
              "    <tr>\n",
              "      <th>2</th>\n",
              "      <td>w</td>\n",
              "      <td>1</td>\n",
              "    </tr>\n",
              "    <tr>\n",
              "      <th>3</th>\n",
              "      <td>w</td>\n",
              "      <td>1</td>\n",
              "    </tr>\n",
              "    <tr>\n",
              "      <th>4</th>\n",
              "      <td>x</td>\n",
              "      <td>2</td>\n",
              "    </tr>\n",
              "    <tr>\n",
              "      <th>5</th>\n",
              "      <td>x</td>\n",
              "      <td>2</td>\n",
              "    </tr>\n",
              "    <tr>\n",
              "      <th>6</th>\n",
              "      <td>x</td>\n",
              "      <td>2</td>\n",
              "    </tr>\n",
              "    <tr>\n",
              "      <th>7</th>\n",
              "      <td>y</td>\n",
              "      <td>3</td>\n",
              "    </tr>\n",
              "    <tr>\n",
              "      <th>8</th>\n",
              "      <td>y</td>\n",
              "      <td>3</td>\n",
              "    </tr>\n",
              "    <tr>\n",
              "      <th>9</th>\n",
              "      <td>z</td>\n",
              "      <td>4</td>\n",
              "    </tr>\n",
              "    <tr>\n",
              "      <th>10</th>\n",
              "      <td>v</td>\n",
              "      <td>5</td>\n",
              "    </tr>\n",
              "  </tbody>\n",
              "</table>\n",
              "</div>"
            ],
            "text/plain": [
              "    a  b\n",
              "0   w  1\n",
              "1   w  1\n",
              "2   w  1\n",
              "3   w  1\n",
              "4   x  2\n",
              "5   x  2\n",
              "6   x  2\n",
              "7   y  3\n",
              "8   y  3\n",
              "9   z  4\n",
              "10  v  5"
            ]
          },
          "metadata": {},
          "execution_count": 22
        }
      ]
    },
    {
      "cell_type": "code",
      "metadata": {
        "colab": {
          "base_uri": "https://localhost:8080/"
        },
        "id": "3W04yBFltbOu",
        "outputId": "9bf6d7d9-32d0-4201-8e58-78fb7cacb8f8"
      },
      "source": [
        "df.duplicated() # marca registros duplicados en la BD"
      ],
      "execution_count": 23,
      "outputs": [
        {
          "output_type": "execute_result",
          "data": {
            "text/plain": [
              "0     False\n",
              "1      True\n",
              "2      True\n",
              "3      True\n",
              "4     False\n",
              "5      True\n",
              "6      True\n",
              "7     False\n",
              "8      True\n",
              "9     False\n",
              "10    False\n",
              "dtype: bool"
            ]
          },
          "metadata": {},
          "execution_count": 23
        }
      ]
    },
    {
      "cell_type": "code",
      "metadata": {
        "colab": {
          "base_uri": "https://localhost:8080/"
        },
        "id": "ycNrB5mVtnit",
        "outputId": "44b2d633-0cfb-4408-ec1c-46322c4dbe60"
      },
      "source": [
        "df.duplicated(keep='first') "
      ],
      "execution_count": 24,
      "outputs": [
        {
          "output_type": "execute_result",
          "data": {
            "text/plain": [
              "0     False\n",
              "1      True\n",
              "2      True\n",
              "3      True\n",
              "4     False\n",
              "5      True\n",
              "6      True\n",
              "7     False\n",
              "8      True\n",
              "9     False\n",
              "10    False\n",
              "dtype: bool"
            ]
          },
          "metadata": {},
          "execution_count": 24
        }
      ]
    },
    {
      "cell_type": "code",
      "metadata": {
        "colab": {
          "base_uri": "https://localhost:8080/"
        },
        "id": "bYzBNBB0tzwv",
        "outputId": "58a880fe-58f6-4378-f84d-d9b69825af0b"
      },
      "source": [
        "df.duplicated(keep='last') "
      ],
      "execution_count": 25,
      "outputs": [
        {
          "output_type": "execute_result",
          "data": {
            "text/plain": [
              "0      True\n",
              "1      True\n",
              "2      True\n",
              "3     False\n",
              "4      True\n",
              "5      True\n",
              "6     False\n",
              "7      True\n",
              "8     False\n",
              "9     False\n",
              "10    False\n",
              "dtype: bool"
            ]
          },
          "metadata": {},
          "execution_count": 25
        }
      ]
    },
    {
      "cell_type": "code",
      "metadata": {
        "colab": {
          "base_uri": "https://localhost:8080/",
          "height": 204
        },
        "id": "1RnuRQqgt7xO",
        "outputId": "252c794d-8249-402d-9458-a6046160a92d"
      },
      "source": [
        "df[~ df.duplicated()] # Filtrar aquellos que no son duplicados"
      ],
      "execution_count": 26,
      "outputs": [
        {
          "output_type": "execute_result",
          "data": {
            "text/html": [
              "<div>\n",
              "<style scoped>\n",
              "    .dataframe tbody tr th:only-of-type {\n",
              "        vertical-align: middle;\n",
              "    }\n",
              "\n",
              "    .dataframe tbody tr th {\n",
              "        vertical-align: top;\n",
              "    }\n",
              "\n",
              "    .dataframe thead th {\n",
              "        text-align: right;\n",
              "    }\n",
              "</style>\n",
              "<table border=\"1\" class=\"dataframe\">\n",
              "  <thead>\n",
              "    <tr style=\"text-align: right;\">\n",
              "      <th></th>\n",
              "      <th>a</th>\n",
              "      <th>b</th>\n",
              "    </tr>\n",
              "  </thead>\n",
              "  <tbody>\n",
              "    <tr>\n",
              "      <th>0</th>\n",
              "      <td>w</td>\n",
              "      <td>1</td>\n",
              "    </tr>\n",
              "    <tr>\n",
              "      <th>4</th>\n",
              "      <td>x</td>\n",
              "      <td>2</td>\n",
              "    </tr>\n",
              "    <tr>\n",
              "      <th>7</th>\n",
              "      <td>y</td>\n",
              "      <td>3</td>\n",
              "    </tr>\n",
              "    <tr>\n",
              "      <th>9</th>\n",
              "      <td>z</td>\n",
              "      <td>4</td>\n",
              "    </tr>\n",
              "    <tr>\n",
              "      <th>10</th>\n",
              "      <td>v</td>\n",
              "      <td>5</td>\n",
              "    </tr>\n",
              "  </tbody>\n",
              "</table>\n",
              "</div>"
            ],
            "text/plain": [
              "    a  b\n",
              "0   w  1\n",
              "4   x  2\n",
              "7   y  3\n",
              "9   z  4\n",
              "10  v  5"
            ]
          },
          "metadata": {},
          "execution_count": 26
        }
      ]
    },
    {
      "cell_type": "code",
      "metadata": {
        "colab": {
          "base_uri": "https://localhost:8080/",
          "height": 204
        },
        "id": "_ooUitiiuIkl",
        "outputId": "1ba8a745-e606-4077-f5ab-2ac7e75ee013"
      },
      "source": [
        "df.drop_duplicates() # Borra los duplicados del data frame"
      ],
      "execution_count": 27,
      "outputs": [
        {
          "output_type": "execute_result",
          "data": {
            "text/html": [
              "<div>\n",
              "<style scoped>\n",
              "    .dataframe tbody tr th:only-of-type {\n",
              "        vertical-align: middle;\n",
              "    }\n",
              "\n",
              "    .dataframe tbody tr th {\n",
              "        vertical-align: top;\n",
              "    }\n",
              "\n",
              "    .dataframe thead th {\n",
              "        text-align: right;\n",
              "    }\n",
              "</style>\n",
              "<table border=\"1\" class=\"dataframe\">\n",
              "  <thead>\n",
              "    <tr style=\"text-align: right;\">\n",
              "      <th></th>\n",
              "      <th>a</th>\n",
              "      <th>b</th>\n",
              "    </tr>\n",
              "  </thead>\n",
              "  <tbody>\n",
              "    <tr>\n",
              "      <th>0</th>\n",
              "      <td>w</td>\n",
              "      <td>1</td>\n",
              "    </tr>\n",
              "    <tr>\n",
              "      <th>4</th>\n",
              "      <td>x</td>\n",
              "      <td>2</td>\n",
              "    </tr>\n",
              "    <tr>\n",
              "      <th>7</th>\n",
              "      <td>y</td>\n",
              "      <td>3</td>\n",
              "    </tr>\n",
              "    <tr>\n",
              "      <th>9</th>\n",
              "      <td>z</td>\n",
              "      <td>4</td>\n",
              "    </tr>\n",
              "    <tr>\n",
              "      <th>10</th>\n",
              "      <td>v</td>\n",
              "      <td>5</td>\n",
              "    </tr>\n",
              "  </tbody>\n",
              "</table>\n",
              "</div>"
            ],
            "text/plain": [
              "    a  b\n",
              "0   w  1\n",
              "4   x  2\n",
              "7   y  3\n",
              "9   z  4\n",
              "10  v  5"
            ]
          },
          "metadata": {},
          "execution_count": 27
        }
      ]
    },
    {
      "cell_type": "code",
      "metadata": {
        "colab": {
          "base_uri": "https://localhost:8080/",
          "height": 390
        },
        "id": "5hD8IGvhuYSu",
        "outputId": "1c9a0731-c9a6-488b-af44-ab5d5f3a2671"
      },
      "source": [
        "df"
      ],
      "execution_count": 28,
      "outputs": [
        {
          "output_type": "execute_result",
          "data": {
            "text/html": [
              "<div>\n",
              "<style scoped>\n",
              "    .dataframe tbody tr th:only-of-type {\n",
              "        vertical-align: middle;\n",
              "    }\n",
              "\n",
              "    .dataframe tbody tr th {\n",
              "        vertical-align: top;\n",
              "    }\n",
              "\n",
              "    .dataframe thead th {\n",
              "        text-align: right;\n",
              "    }\n",
              "</style>\n",
              "<table border=\"1\" class=\"dataframe\">\n",
              "  <thead>\n",
              "    <tr style=\"text-align: right;\">\n",
              "      <th></th>\n",
              "      <th>a</th>\n",
              "      <th>b</th>\n",
              "    </tr>\n",
              "  </thead>\n",
              "  <tbody>\n",
              "    <tr>\n",
              "      <th>0</th>\n",
              "      <td>w</td>\n",
              "      <td>1</td>\n",
              "    </tr>\n",
              "    <tr>\n",
              "      <th>1</th>\n",
              "      <td>w</td>\n",
              "      <td>1</td>\n",
              "    </tr>\n",
              "    <tr>\n",
              "      <th>2</th>\n",
              "      <td>w</td>\n",
              "      <td>1</td>\n",
              "    </tr>\n",
              "    <tr>\n",
              "      <th>3</th>\n",
              "      <td>w</td>\n",
              "      <td>1</td>\n",
              "    </tr>\n",
              "    <tr>\n",
              "      <th>4</th>\n",
              "      <td>x</td>\n",
              "      <td>2</td>\n",
              "    </tr>\n",
              "    <tr>\n",
              "      <th>5</th>\n",
              "      <td>x</td>\n",
              "      <td>2</td>\n",
              "    </tr>\n",
              "    <tr>\n",
              "      <th>6</th>\n",
              "      <td>x</td>\n",
              "      <td>2</td>\n",
              "    </tr>\n",
              "    <tr>\n",
              "      <th>7</th>\n",
              "      <td>y</td>\n",
              "      <td>3</td>\n",
              "    </tr>\n",
              "    <tr>\n",
              "      <th>8</th>\n",
              "      <td>y</td>\n",
              "      <td>3</td>\n",
              "    </tr>\n",
              "    <tr>\n",
              "      <th>9</th>\n",
              "      <td>z</td>\n",
              "      <td>4</td>\n",
              "    </tr>\n",
              "    <tr>\n",
              "      <th>10</th>\n",
              "      <td>v</td>\n",
              "      <td>5</td>\n",
              "    </tr>\n",
              "  </tbody>\n",
              "</table>\n",
              "</div>"
            ],
            "text/plain": [
              "    a  b\n",
              "0   w  1\n",
              "1   w  1\n",
              "2   w  1\n",
              "3   w  1\n",
              "4   x  2\n",
              "5   x  2\n",
              "6   x  2\n",
              "7   y  3\n",
              "8   y  3\n",
              "9   z  4\n",
              "10  v  5"
            ]
          },
          "metadata": {},
          "execution_count": 28
        }
      ]
    },
    {
      "cell_type": "code",
      "metadata": {
        "colab": {
          "base_uri": "https://localhost:8080/",
          "height": 419
        },
        "id": "qa2SreJiuz0W",
        "outputId": "e7898266-b69e-4651-e386-c656fcbc96d2"
      },
      "source": [
        "df=sns.load_dataset('tips')\n",
        "df"
      ],
      "execution_count": 29,
      "outputs": [
        {
          "output_type": "execute_result",
          "data": {
            "text/html": [
              "<div>\n",
              "<style scoped>\n",
              "    .dataframe tbody tr th:only-of-type {\n",
              "        vertical-align: middle;\n",
              "    }\n",
              "\n",
              "    .dataframe tbody tr th {\n",
              "        vertical-align: top;\n",
              "    }\n",
              "\n",
              "    .dataframe thead th {\n",
              "        text-align: right;\n",
              "    }\n",
              "</style>\n",
              "<table border=\"1\" class=\"dataframe\">\n",
              "  <thead>\n",
              "    <tr style=\"text-align: right;\">\n",
              "      <th></th>\n",
              "      <th>total_bill</th>\n",
              "      <th>tip</th>\n",
              "      <th>sex</th>\n",
              "      <th>smoker</th>\n",
              "      <th>day</th>\n",
              "      <th>time</th>\n",
              "      <th>size</th>\n",
              "    </tr>\n",
              "  </thead>\n",
              "  <tbody>\n",
              "    <tr>\n",
              "      <th>0</th>\n",
              "      <td>16.99</td>\n",
              "      <td>1.01</td>\n",
              "      <td>Female</td>\n",
              "      <td>No</td>\n",
              "      <td>Sun</td>\n",
              "      <td>Dinner</td>\n",
              "      <td>2</td>\n",
              "    </tr>\n",
              "    <tr>\n",
              "      <th>1</th>\n",
              "      <td>10.34</td>\n",
              "      <td>1.66</td>\n",
              "      <td>Male</td>\n",
              "      <td>No</td>\n",
              "      <td>Sun</td>\n",
              "      <td>Dinner</td>\n",
              "      <td>3</td>\n",
              "    </tr>\n",
              "    <tr>\n",
              "      <th>2</th>\n",
              "      <td>21.01</td>\n",
              "      <td>3.50</td>\n",
              "      <td>Male</td>\n",
              "      <td>No</td>\n",
              "      <td>Sun</td>\n",
              "      <td>Dinner</td>\n",
              "      <td>3</td>\n",
              "    </tr>\n",
              "    <tr>\n",
              "      <th>3</th>\n",
              "      <td>23.68</td>\n",
              "      <td>3.31</td>\n",
              "      <td>Male</td>\n",
              "      <td>No</td>\n",
              "      <td>Sun</td>\n",
              "      <td>Dinner</td>\n",
              "      <td>2</td>\n",
              "    </tr>\n",
              "    <tr>\n",
              "      <th>4</th>\n",
              "      <td>24.59</td>\n",
              "      <td>3.61</td>\n",
              "      <td>Female</td>\n",
              "      <td>No</td>\n",
              "      <td>Sun</td>\n",
              "      <td>Dinner</td>\n",
              "      <td>4</td>\n",
              "    </tr>\n",
              "    <tr>\n",
              "      <th>...</th>\n",
              "      <td>...</td>\n",
              "      <td>...</td>\n",
              "      <td>...</td>\n",
              "      <td>...</td>\n",
              "      <td>...</td>\n",
              "      <td>...</td>\n",
              "      <td>...</td>\n",
              "    </tr>\n",
              "    <tr>\n",
              "      <th>239</th>\n",
              "      <td>29.03</td>\n",
              "      <td>5.92</td>\n",
              "      <td>Male</td>\n",
              "      <td>No</td>\n",
              "      <td>Sat</td>\n",
              "      <td>Dinner</td>\n",
              "      <td>3</td>\n",
              "    </tr>\n",
              "    <tr>\n",
              "      <th>240</th>\n",
              "      <td>27.18</td>\n",
              "      <td>2.00</td>\n",
              "      <td>Female</td>\n",
              "      <td>Yes</td>\n",
              "      <td>Sat</td>\n",
              "      <td>Dinner</td>\n",
              "      <td>2</td>\n",
              "    </tr>\n",
              "    <tr>\n",
              "      <th>241</th>\n",
              "      <td>22.67</td>\n",
              "      <td>2.00</td>\n",
              "      <td>Male</td>\n",
              "      <td>Yes</td>\n",
              "      <td>Sat</td>\n",
              "      <td>Dinner</td>\n",
              "      <td>2</td>\n",
              "    </tr>\n",
              "    <tr>\n",
              "      <th>242</th>\n",
              "      <td>17.82</td>\n",
              "      <td>1.75</td>\n",
              "      <td>Male</td>\n",
              "      <td>No</td>\n",
              "      <td>Sat</td>\n",
              "      <td>Dinner</td>\n",
              "      <td>2</td>\n",
              "    </tr>\n",
              "    <tr>\n",
              "      <th>243</th>\n",
              "      <td>18.78</td>\n",
              "      <td>3.00</td>\n",
              "      <td>Female</td>\n",
              "      <td>No</td>\n",
              "      <td>Thur</td>\n",
              "      <td>Dinner</td>\n",
              "      <td>2</td>\n",
              "    </tr>\n",
              "  </tbody>\n",
              "</table>\n",
              "<p>244 rows × 7 columns</p>\n",
              "</div>"
            ],
            "text/plain": [
              "     total_bill  tip     sex smoker   day    time  size\n",
              "0         16.99 1.01  Female     No   Sun  Dinner     2\n",
              "1         10.34 1.66    Male     No   Sun  Dinner     3\n",
              "2         21.01 3.50    Male     No   Sun  Dinner     3\n",
              "3         23.68 3.31    Male     No   Sun  Dinner     2\n",
              "4         24.59 3.61  Female     No   Sun  Dinner     4\n",
              "..          ...  ...     ...    ...   ...     ...   ...\n",
              "239       29.03 5.92    Male     No   Sat  Dinner     3\n",
              "240       27.18 2.00  Female    Yes   Sat  Dinner     2\n",
              "241       22.67 2.00    Male    Yes   Sat  Dinner     2\n",
              "242       17.82 1.75    Male     No   Sat  Dinner     2\n",
              "243       18.78 3.00  Female     No  Thur  Dinner     2\n",
              "\n",
              "[244 rows x 7 columns]"
            ]
          },
          "metadata": {},
          "execution_count": 29
        }
      ]
    },
    {
      "cell_type": "code",
      "metadata": {
        "colab": {
          "base_uri": "https://localhost:8080/",
          "height": 390
        },
        "id": "UCeeZiJsu55t",
        "outputId": "85d2af06-d87b-4361-e1f4-3280871849b2"
      },
      "source": [
        "df.describe(include='all')"
      ],
      "execution_count": 31,
      "outputs": [
        {
          "output_type": "execute_result",
          "data": {
            "text/html": [
              "<div>\n",
              "<style scoped>\n",
              "    .dataframe tbody tr th:only-of-type {\n",
              "        vertical-align: middle;\n",
              "    }\n",
              "\n",
              "    .dataframe tbody tr th {\n",
              "        vertical-align: top;\n",
              "    }\n",
              "\n",
              "    .dataframe thead th {\n",
              "        text-align: right;\n",
              "    }\n",
              "</style>\n",
              "<table border=\"1\" class=\"dataframe\">\n",
              "  <thead>\n",
              "    <tr style=\"text-align: right;\">\n",
              "      <th></th>\n",
              "      <th>total_bill</th>\n",
              "      <th>tip</th>\n",
              "      <th>sex</th>\n",
              "      <th>smoker</th>\n",
              "      <th>day</th>\n",
              "      <th>time</th>\n",
              "      <th>size</th>\n",
              "    </tr>\n",
              "  </thead>\n",
              "  <tbody>\n",
              "    <tr>\n",
              "      <th>count</th>\n",
              "      <td>244.00</td>\n",
              "      <td>244.00</td>\n",
              "      <td>244</td>\n",
              "      <td>244</td>\n",
              "      <td>244</td>\n",
              "      <td>244</td>\n",
              "      <td>244.00</td>\n",
              "    </tr>\n",
              "    <tr>\n",
              "      <th>unique</th>\n",
              "      <td>nan</td>\n",
              "      <td>nan</td>\n",
              "      <td>2</td>\n",
              "      <td>2</td>\n",
              "      <td>4</td>\n",
              "      <td>2</td>\n",
              "      <td>nan</td>\n",
              "    </tr>\n",
              "    <tr>\n",
              "      <th>top</th>\n",
              "      <td>nan</td>\n",
              "      <td>nan</td>\n",
              "      <td>Male</td>\n",
              "      <td>No</td>\n",
              "      <td>Sat</td>\n",
              "      <td>Dinner</td>\n",
              "      <td>nan</td>\n",
              "    </tr>\n",
              "    <tr>\n",
              "      <th>freq</th>\n",
              "      <td>nan</td>\n",
              "      <td>nan</td>\n",
              "      <td>157</td>\n",
              "      <td>151</td>\n",
              "      <td>87</td>\n",
              "      <td>176</td>\n",
              "      <td>nan</td>\n",
              "    </tr>\n",
              "    <tr>\n",
              "      <th>mean</th>\n",
              "      <td>19.79</td>\n",
              "      <td>3.00</td>\n",
              "      <td>NaN</td>\n",
              "      <td>NaN</td>\n",
              "      <td>NaN</td>\n",
              "      <td>NaN</td>\n",
              "      <td>2.57</td>\n",
              "    </tr>\n",
              "    <tr>\n",
              "      <th>std</th>\n",
              "      <td>8.90</td>\n",
              "      <td>1.38</td>\n",
              "      <td>NaN</td>\n",
              "      <td>NaN</td>\n",
              "      <td>NaN</td>\n",
              "      <td>NaN</td>\n",
              "      <td>0.95</td>\n",
              "    </tr>\n",
              "    <tr>\n",
              "      <th>min</th>\n",
              "      <td>3.07</td>\n",
              "      <td>1.00</td>\n",
              "      <td>NaN</td>\n",
              "      <td>NaN</td>\n",
              "      <td>NaN</td>\n",
              "      <td>NaN</td>\n",
              "      <td>1.00</td>\n",
              "    </tr>\n",
              "    <tr>\n",
              "      <th>25%</th>\n",
              "      <td>13.35</td>\n",
              "      <td>2.00</td>\n",
              "      <td>NaN</td>\n",
              "      <td>NaN</td>\n",
              "      <td>NaN</td>\n",
              "      <td>NaN</td>\n",
              "      <td>2.00</td>\n",
              "    </tr>\n",
              "    <tr>\n",
              "      <th>50%</th>\n",
              "      <td>17.80</td>\n",
              "      <td>2.90</td>\n",
              "      <td>NaN</td>\n",
              "      <td>NaN</td>\n",
              "      <td>NaN</td>\n",
              "      <td>NaN</td>\n",
              "      <td>2.00</td>\n",
              "    </tr>\n",
              "    <tr>\n",
              "      <th>75%</th>\n",
              "      <td>24.13</td>\n",
              "      <td>3.56</td>\n",
              "      <td>NaN</td>\n",
              "      <td>NaN</td>\n",
              "      <td>NaN</td>\n",
              "      <td>NaN</td>\n",
              "      <td>3.00</td>\n",
              "    </tr>\n",
              "    <tr>\n",
              "      <th>max</th>\n",
              "      <td>50.81</td>\n",
              "      <td>10.00</td>\n",
              "      <td>NaN</td>\n",
              "      <td>NaN</td>\n",
              "      <td>NaN</td>\n",
              "      <td>NaN</td>\n",
              "      <td>6.00</td>\n",
              "    </tr>\n",
              "  </tbody>\n",
              "</table>\n",
              "</div>"
            ],
            "text/plain": [
              "        total_bill    tip   sex smoker  day    time   size\n",
              "count       244.00 244.00   244    244  244     244 244.00\n",
              "unique         nan    nan     2      2    4       2    nan\n",
              "top            nan    nan  Male     No  Sat  Dinner    nan\n",
              "freq           nan    nan   157    151   87     176    nan\n",
              "mean         19.79   3.00   NaN    NaN  NaN     NaN   2.57\n",
              "std           8.90   1.38   NaN    NaN  NaN     NaN   0.95\n",
              "min           3.07   1.00   NaN    NaN  NaN     NaN   1.00\n",
              "25%          13.35   2.00   NaN    NaN  NaN     NaN   2.00\n",
              "50%          17.80   2.90   NaN    NaN  NaN     NaN   2.00\n",
              "75%          24.13   3.56   NaN    NaN  NaN     NaN   3.00\n",
              "max          50.81  10.00   NaN    NaN  NaN     NaN   6.00"
            ]
          },
          "metadata": {},
          "execution_count": 31
        }
      ]
    },
    {
      "cell_type": "code",
      "metadata": {
        "colab": {
          "base_uri": "https://localhost:8080/"
        },
        "id": "1Jk9EMzLvSSF",
        "outputId": "1191ab4e-04e4-4eb7-b443-1a10b51b2adb"
      },
      "source": [
        "df['day'].value_counts()"
      ],
      "execution_count": 34,
      "outputs": [
        {
          "output_type": "execute_result",
          "data": {
            "text/plain": [
              "Sat     87\n",
              "Sun     76\n",
              "Thur    62\n",
              "Fri     19\n",
              "Name: day, dtype: int64"
            ]
          },
          "metadata": {},
          "execution_count": 34
        }
      ]
    },
    {
      "cell_type": "code",
      "metadata": {
        "colab": {
          "base_uri": "https://localhost:8080/"
        },
        "id": "KBuY7zJAv6mg",
        "outputId": "af043cd8-3559-4512-a4c9-f895f136ca90"
      },
      "source": [
        "df['day'].value_counts(normalize = True)*100"
      ],
      "execution_count": 35,
      "outputs": [
        {
          "output_type": "execute_result",
          "data": {
            "text/plain": [
              "Sat    35.66\n",
              "Sun    31.15\n",
              "Thur   25.41\n",
              "Fri     7.79\n",
              "Name: day, dtype: float64"
            ]
          },
          "metadata": {},
          "execution_count": 35
        }
      ]
    },
    {
      "cell_type": "code",
      "metadata": {
        "colab": {
          "base_uri": "https://localhost:8080/",
          "height": 142
        },
        "id": "ZQGbHSP6v8go",
        "outputId": "93092230-83d7-477a-ad3a-9d8258df84cd"
      },
      "source": [
        "df.groupby('sex').mean()"
      ],
      "execution_count": 36,
      "outputs": [
        {
          "output_type": "execute_result",
          "data": {
            "text/html": [
              "<div>\n",
              "<style scoped>\n",
              "    .dataframe tbody tr th:only-of-type {\n",
              "        vertical-align: middle;\n",
              "    }\n",
              "\n",
              "    .dataframe tbody tr th {\n",
              "        vertical-align: top;\n",
              "    }\n",
              "\n",
              "    .dataframe thead th {\n",
              "        text-align: right;\n",
              "    }\n",
              "</style>\n",
              "<table border=\"1\" class=\"dataframe\">\n",
              "  <thead>\n",
              "    <tr style=\"text-align: right;\">\n",
              "      <th></th>\n",
              "      <th>total_bill</th>\n",
              "      <th>tip</th>\n",
              "      <th>size</th>\n",
              "    </tr>\n",
              "    <tr>\n",
              "      <th>sex</th>\n",
              "      <th></th>\n",
              "      <th></th>\n",
              "      <th></th>\n",
              "    </tr>\n",
              "  </thead>\n",
              "  <tbody>\n",
              "    <tr>\n",
              "      <th>Male</th>\n",
              "      <td>20.74</td>\n",
              "      <td>3.09</td>\n",
              "      <td>2.63</td>\n",
              "    </tr>\n",
              "    <tr>\n",
              "      <th>Female</th>\n",
              "      <td>18.06</td>\n",
              "      <td>2.83</td>\n",
              "      <td>2.46</td>\n",
              "    </tr>\n",
              "  </tbody>\n",
              "</table>\n",
              "</div>"
            ],
            "text/plain": [
              "        total_bill  tip  size\n",
              "sex                          \n",
              "Male         20.74 3.09  2.63\n",
              "Female       18.06 2.83  2.46"
            ]
          },
          "metadata": {},
          "execution_count": 36
        }
      ]
    },
    {
      "cell_type": "code",
      "metadata": {
        "colab": {
          "base_uri": "https://localhost:8080/",
          "height": 142
        },
        "id": "PVj9i9G2wNOn",
        "outputId": "04131e91-0473-4917-ae09-5a21b58a4bf1"
      },
      "source": [
        "df.groupby('sex')['total_bill'].describe() # descripción de estadísticos por género para el total de la factura"
      ],
      "execution_count": 37,
      "outputs": [
        {
          "output_type": "execute_result",
          "data": {
            "text/html": [
              "<div>\n",
              "<style scoped>\n",
              "    .dataframe tbody tr th:only-of-type {\n",
              "        vertical-align: middle;\n",
              "    }\n",
              "\n",
              "    .dataframe tbody tr th {\n",
              "        vertical-align: top;\n",
              "    }\n",
              "\n",
              "    .dataframe thead th {\n",
              "        text-align: right;\n",
              "    }\n",
              "</style>\n",
              "<table border=\"1\" class=\"dataframe\">\n",
              "  <thead>\n",
              "    <tr style=\"text-align: right;\">\n",
              "      <th></th>\n",
              "      <th>count</th>\n",
              "      <th>mean</th>\n",
              "      <th>std</th>\n",
              "      <th>min</th>\n",
              "      <th>25%</th>\n",
              "      <th>50%</th>\n",
              "      <th>75%</th>\n",
              "      <th>max</th>\n",
              "    </tr>\n",
              "    <tr>\n",
              "      <th>sex</th>\n",
              "      <th></th>\n",
              "      <th></th>\n",
              "      <th></th>\n",
              "      <th></th>\n",
              "      <th></th>\n",
              "      <th></th>\n",
              "      <th></th>\n",
              "      <th></th>\n",
              "    </tr>\n",
              "  </thead>\n",
              "  <tbody>\n",
              "    <tr>\n",
              "      <th>Male</th>\n",
              "      <td>157.00</td>\n",
              "      <td>20.74</td>\n",
              "      <td>9.25</td>\n",
              "      <td>7.25</td>\n",
              "      <td>14.00</td>\n",
              "      <td>18.35</td>\n",
              "      <td>24.71</td>\n",
              "      <td>50.81</td>\n",
              "    </tr>\n",
              "    <tr>\n",
              "      <th>Female</th>\n",
              "      <td>87.00</td>\n",
              "      <td>18.06</td>\n",
              "      <td>8.01</td>\n",
              "      <td>3.07</td>\n",
              "      <td>12.75</td>\n",
              "      <td>16.40</td>\n",
              "      <td>21.52</td>\n",
              "      <td>44.30</td>\n",
              "    </tr>\n",
              "  </tbody>\n",
              "</table>\n",
              "</div>"
            ],
            "text/plain": [
              "        count  mean  std  min   25%   50%   75%   max\n",
              "sex                                                  \n",
              "Male   157.00 20.74 9.25 7.25 14.00 18.35 24.71 50.81\n",
              "Female  87.00 18.06 8.01 3.07 12.75 16.40 21.52 44.30"
            ]
          },
          "metadata": {},
          "execution_count": 37
        }
      ]
    },
    {
      "cell_type": "code",
      "metadata": {
        "id": "YdaVU7lew7vP"
      },
      "source": [
        "def promedio_10(x):\n",
        "  return np.mean(x)*1.1"
      ],
      "execution_count": 41,
      "outputs": []
    },
    {
      "cell_type": "code",
      "metadata": {
        "colab": {
          "base_uri": "https://localhost:8080/"
        },
        "id": "g9dsblWXy4GH",
        "outputId": "5544bae6-8cf3-47e4-eff2-e54e00b5f0d7"
      },
      "source": [
        "df.groupby('sex')['total_bill'].apply(promedio_10)"
      ],
      "execution_count": 42,
      "outputs": [
        {
          "output_type": "execute_result",
          "data": {
            "text/plain": [
              "sex\n",
              "Male     22.82\n",
              "Female   19.86\n",
              "Name: total_bill, dtype: float64"
            ]
          },
          "metadata": {},
          "execution_count": 42
        }
      ]
    },
    {
      "cell_type": "code",
      "metadata": {
        "colab": {
          "base_uri": "https://localhost:8080/"
        },
        "id": "8UjETKTQzWJq",
        "outputId": "3b62568c-e6e8-4dfc-b271-c37df9088a28"
      },
      "source": [
        "df.groupby('sex')['total_bill'].apply(np.std)"
      ],
      "execution_count": 44,
      "outputs": [
        {
          "output_type": "execute_result",
          "data": {
            "text/plain": [
              "sex\n",
              "Male     9.22\n",
              "Female   7.96\n",
              "Name: total_bill, dtype: float64"
            ]
          },
          "metadata": {},
          "execution_count": 44
        }
      ]
    },
    {
      "cell_type": "code",
      "metadata": {
        "colab": {
          "base_uri": "https://localhost:8080/"
        },
        "id": "8wMPFz56zbnv",
        "outputId": "2b01db75-2496-460f-8ea8-3ea72893e6eb"
      },
      "source": [
        "df.groupby(['sex','time'])['total_bill'].apply(np.std)"
      ],
      "execution_count": 46,
      "outputs": [
        {
          "output_type": "execute_result",
          "data": {
            "text/plain": [
              "sex     time  \n",
              "Male    Lunch    7.83\n",
              "        Dinner   9.42\n",
              "Female  Lunch    7.39\n",
              "        Dinner   8.12\n",
              "Name: total_bill, dtype: float64"
            ]
          },
          "metadata": {},
          "execution_count": 46
        }
      ]
    },
    {
      "cell_type": "code",
      "metadata": {
        "colab": {
          "base_uri": "https://localhost:8080/"
        },
        "id": "xAQV2tjwz2Im",
        "outputId": "8ead70ba-7b43-4056-d73b-d13d16c6c0a1"
      },
      "source": [
        "df.groupby(['sex','time'])['total_bill'].apply(lambda x: np.mean(x)*1.1) # crear directamente la función con lambda"
      ],
      "execution_count": 48,
      "outputs": [
        {
          "output_type": "execute_result",
          "data": {
            "text/plain": [
              "sex     time  \n",
              "Male    Lunch    19.85\n",
              "        Dinner   23.61\n",
              "Female  Lunch    17.97\n",
              "        Dinner   21.13\n",
              "Name: total_bill, dtype: float64"
            ]
          },
          "metadata": {},
          "execution_count": 48
        }
      ]
    },
    {
      "cell_type": "code",
      "metadata": {
        "colab": {
          "base_uri": "https://localhost:8080/",
          "height": 142
        },
        "id": "MXkg2-TT0IPO",
        "outputId": "2cf1412b-01fe-4a96-97d8-e06f3b80227a"
      },
      "source": [
        "df.groupby('sex')['total_bill'].aggregate([np.std,np.mean,np.max]) # si se quiere mas de una función se utiliza aggregate"
      ],
      "execution_count": 50,
      "outputs": [
        {
          "output_type": "execute_result",
          "data": {
            "text/html": [
              "<div>\n",
              "<style scoped>\n",
              "    .dataframe tbody tr th:only-of-type {\n",
              "        vertical-align: middle;\n",
              "    }\n",
              "\n",
              "    .dataframe tbody tr th {\n",
              "        vertical-align: top;\n",
              "    }\n",
              "\n",
              "    .dataframe thead th {\n",
              "        text-align: right;\n",
              "    }\n",
              "</style>\n",
              "<table border=\"1\" class=\"dataframe\">\n",
              "  <thead>\n",
              "    <tr style=\"text-align: right;\">\n",
              "      <th></th>\n",
              "      <th>std</th>\n",
              "      <th>mean</th>\n",
              "      <th>amax</th>\n",
              "    </tr>\n",
              "    <tr>\n",
              "      <th>sex</th>\n",
              "      <th></th>\n",
              "      <th></th>\n",
              "      <th></th>\n",
              "    </tr>\n",
              "  </thead>\n",
              "  <tbody>\n",
              "    <tr>\n",
              "      <th>Male</th>\n",
              "      <td>9.25</td>\n",
              "      <td>20.74</td>\n",
              "      <td>50.81</td>\n",
              "    </tr>\n",
              "    <tr>\n",
              "      <th>Female</th>\n",
              "      <td>8.01</td>\n",
              "      <td>18.06</td>\n",
              "      <td>44.30</td>\n",
              "    </tr>\n",
              "  </tbody>\n",
              "</table>\n",
              "</div>"
            ],
            "text/plain": [
              "        std  mean  amax\n",
              "sex                    \n",
              "Male   9.25 20.74 50.81\n",
              "Female 8.01 18.06 44.30"
            ]
          },
          "metadata": {},
          "execution_count": 50
        }
      ]
    },
    {
      "cell_type": "code",
      "metadata": {
        "colab": {
          "base_uri": "https://localhost:8080/"
        },
        "id": "ph5qPmMd1FEK",
        "outputId": "12ea8765-cf68-4e7b-d516-96c765fd8f04"
      },
      "source": [
        "dict_agg={'tip':[np.min,np.max],'total_bill':[np.mean,np.std]}\n",
        "dict_agg"
      ],
      "execution_count": 52,
      "outputs": [
        {
          "output_type": "execute_result",
          "data": {
            "text/plain": [
              "{'tip': [<function numpy.amin>, <function numpy.amax>],\n",
              " 'total_bill': [<function numpy.mean>, <function numpy.std>]}"
            ]
          },
          "metadata": {},
          "execution_count": 52
        }
      ]
    },
    {
      "cell_type": "code",
      "metadata": {
        "colab": {
          "base_uri": "https://localhost:8080/",
          "height": 227
        },
        "id": "JC4nopD81Xyo",
        "outputId": "f7ee2b74-f9e1-4996-a9a5-f19e15c96b21"
      },
      "source": [
        "df.groupby('sex')['tip','total_bill'].aggregate(dict_agg) # si se quiere utilizar un diccionario de funciones"
      ],
      "execution_count": 53,
      "outputs": [
        {
          "output_type": "stream",
          "name": "stderr",
          "text": [
            "/usr/local/lib/python3.7/dist-packages/ipykernel_launcher.py:1: FutureWarning: Indexing with multiple keys (implicitly converted to a tuple of keys) will be deprecated, use a list instead.\n",
            "  \"\"\"Entry point for launching an IPython kernel.\n"
          ]
        },
        {
          "output_type": "execute_result",
          "data": {
            "text/html": [
              "<div>\n",
              "<style scoped>\n",
              "    .dataframe tbody tr th:only-of-type {\n",
              "        vertical-align: middle;\n",
              "    }\n",
              "\n",
              "    .dataframe tbody tr th {\n",
              "        vertical-align: top;\n",
              "    }\n",
              "\n",
              "    .dataframe thead tr th {\n",
              "        text-align: left;\n",
              "    }\n",
              "\n",
              "    .dataframe thead tr:last-of-type th {\n",
              "        text-align: right;\n",
              "    }\n",
              "</style>\n",
              "<table border=\"1\" class=\"dataframe\">\n",
              "  <thead>\n",
              "    <tr>\n",
              "      <th></th>\n",
              "      <th colspan=\"2\" halign=\"left\">tip</th>\n",
              "      <th colspan=\"2\" halign=\"left\">total_bill</th>\n",
              "    </tr>\n",
              "    <tr>\n",
              "      <th></th>\n",
              "      <th>amin</th>\n",
              "      <th>amax</th>\n",
              "      <th>mean</th>\n",
              "      <th>std</th>\n",
              "    </tr>\n",
              "    <tr>\n",
              "      <th>sex</th>\n",
              "      <th></th>\n",
              "      <th></th>\n",
              "      <th></th>\n",
              "      <th></th>\n",
              "    </tr>\n",
              "  </thead>\n",
              "  <tbody>\n",
              "    <tr>\n",
              "      <th>Male</th>\n",
              "      <td>1.00</td>\n",
              "      <td>10.00</td>\n",
              "      <td>20.74</td>\n",
              "      <td>9.25</td>\n",
              "    </tr>\n",
              "    <tr>\n",
              "      <th>Female</th>\n",
              "      <td>1.00</td>\n",
              "      <td>6.50</td>\n",
              "      <td>18.06</td>\n",
              "      <td>8.01</td>\n",
              "    </tr>\n",
              "  </tbody>\n",
              "</table>\n",
              "</div>"
            ],
            "text/plain": [
              "        tip       total_bill     \n",
              "       amin  amax       mean  std\n",
              "sex                              \n",
              "Male   1.00 10.00      20.74 9.25\n",
              "Female 1.00  6.50      18.06 8.01"
            ]
          },
          "metadata": {},
          "execution_count": 53
        }
      ]
    },
    {
      "cell_type": "code",
      "metadata": {
        "id": "VINBZ4zo1mh1"
      },
      "source": [
        ""
      ],
      "execution_count": null,
      "outputs": []
    }
  ]
}